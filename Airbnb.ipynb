{
 "cells": [
  {
   "cell_type": "markdown",
   "metadata": {},
   "source": [
    "# So You Want To Become a Landlord..."
   ]
  },
  {
   "cell_type": "markdown",
   "metadata": {},
   "source": [
    "# CRISP-DM step 1:   Business Understanding"
   ]
  },
  {
   "cell_type": "markdown",
   "metadata": {},
   "source": [
    "I chose the Airbnb dataset.  I didn't want to get bogged down trying to explain something abstract, and a basic understanding of property rental is pretty universal.  Most people have paid rent at some point in their life."
   ]
  },
  {
   "cell_type": "markdown",
   "metadata": {},
   "source": [
    "## Questions:\n",
    "\n",
    "1. Who are the potential customers?  (demographics)\n",
    "2. What is the purpose of their rental?  (vacation, business trip, temporary work)\n",
    "3. What duration of rental are they looking for?\n",
    "4. Which locations are most popular?\n",
    "5. What type of accomodation are they looking for?  (size, occupancy, amenities)\n",
    "6. Which locations/types of properties bring in the largest rent?"
   ]
  },
  {
   "cell_type": "markdown",
   "metadata": {},
   "source": [
    "# CRISP-DM step 2:  Data Understanding"
   ]
  },
  {
   "cell_type": "markdown",
   "metadata": {},
   "source": [
    "Quick 'n dirty data inspection.  There's nothing too surprising here, this part just takes a lot of vertical space in the notebook.\n",
    "\n",
    "I actually did several passes on this section to keep it as compact as possible, first rejecting tables, and then throwing out columns.  What you see here has been cleaned up for the benefit of the grader."
   ]
  },
  {
   "cell_type": "code",
   "execution_count": 1,
   "metadata": {},
   "outputs": [],
   "source": [
    "import pandas as pd"
   ]
  },
  {
   "cell_type": "markdown",
   "metadata": {},
   "source": [
    "The 'neighborhoods' and 'neighborhoods.geojson' are a little curious.  The 'neighborhood' column seems to be the primary key in the 'neighborhoods' table, which apparently lines up row-wise with the entries in the 'neighbourhoods.geojson' file.  (That's a guess, these could have been put in a single table.)\n",
    "\n",
    "Both neighborhood and geolocation are included in the 'listings' table, so there is some redundancy in this data.  We don't actually need to draw a map of the neighborhoods in this projects, so these two tables can be safely discarded."
   ]
  },
  {
   "cell_type": "code",
   "execution_count": 2,
   "metadata": {},
   "outputs": [
    {
     "data": {
      "text/html": [
       "<div>\n",
       "<style scoped>\n",
       "    .dataframe tbody tr th:only-of-type {\n",
       "        vertical-align: middle;\n",
       "    }\n",
       "\n",
       "    .dataframe tbody tr th {\n",
       "        vertical-align: top;\n",
       "    }\n",
       "\n",
       "    .dataframe thead th {\n",
       "        text-align: right;\n",
       "    }\n",
       "</style>\n",
       "<table border=\"1\" class=\"dataframe\">\n",
       "  <thead>\n",
       "    <tr style=\"text-align: right;\">\n",
       "      <th></th>\n",
       "      <th>neighbourhood_group</th>\n",
       "      <th>neighbourhood</th>\n",
       "    </tr>\n",
       "  </thead>\n",
       "  <tbody>\n",
       "    <tr>\n",
       "      <th>0</th>\n",
       "      <td>NaN</td>\n",
       "      <td>Allston</td>\n",
       "    </tr>\n",
       "    <tr>\n",
       "      <th>1</th>\n",
       "      <td>NaN</td>\n",
       "      <td>Back Bay</td>\n",
       "    </tr>\n",
       "    <tr>\n",
       "      <th>2</th>\n",
       "      <td>NaN</td>\n",
       "      <td>Bay Village</td>\n",
       "    </tr>\n",
       "    <tr>\n",
       "      <th>3</th>\n",
       "      <td>NaN</td>\n",
       "      <td>Beacon Hill</td>\n",
       "    </tr>\n",
       "    <tr>\n",
       "      <th>4</th>\n",
       "      <td>NaN</td>\n",
       "      <td>Brighton</td>\n",
       "    </tr>\n",
       "  </tbody>\n",
       "</table>\n",
       "</div>"
      ],
      "text/plain": [
       "   neighbourhood_group neighbourhood\n",
       "0                  NaN       Allston\n",
       "1                  NaN      Back Bay\n",
       "2                  NaN   Bay Village\n",
       "3                  NaN   Beacon Hill\n",
       "4                  NaN      Brighton"
      ]
     },
     "execution_count": 2,
     "metadata": {},
     "output_type": "execute_result"
    }
   ],
   "source": [
    "df_b_neighbourhoods = pd.read_csv('Boston/neighbourhoods.csv')\n",
    "df_b_neighbourhoods.head()"
   ]
  },
  {
   "cell_type": "code",
   "execution_count": 3,
   "metadata": {},
   "outputs": [
    {
     "data": {
      "text/html": [
       "<div>\n",
       "<style scoped>\n",
       "    .dataframe tbody tr th:only-of-type {\n",
       "        vertical-align: middle;\n",
       "    }\n",
       "\n",
       "    .dataframe tbody tr th {\n",
       "        vertical-align: top;\n",
       "    }\n",
       "\n",
       "    .dataframe thead th {\n",
       "        text-align: right;\n",
       "    }\n",
       "</style>\n",
       "<table border=\"1\" class=\"dataframe\">\n",
       "  <thead>\n",
       "    <tr style=\"text-align: right;\">\n",
       "      <th></th>\n",
       "      <th>type</th>\n",
       "      <th>features</th>\n",
       "    </tr>\n",
       "  </thead>\n",
       "  <tbody>\n",
       "    <tr>\n",
       "      <th>0</th>\n",
       "      <td>FeatureCollection</td>\n",
       "      <td>{'type': 'Feature', 'geometry': {'type': 'Mult...</td>\n",
       "    </tr>\n",
       "    <tr>\n",
       "      <th>1</th>\n",
       "      <td>FeatureCollection</td>\n",
       "      <td>{'type': 'Feature', 'geometry': {'type': 'Mult...</td>\n",
       "    </tr>\n",
       "    <tr>\n",
       "      <th>2</th>\n",
       "      <td>FeatureCollection</td>\n",
       "      <td>{'type': 'Feature', 'geometry': {'type': 'Mult...</td>\n",
       "    </tr>\n",
       "    <tr>\n",
       "      <th>3</th>\n",
       "      <td>FeatureCollection</td>\n",
       "      <td>{'type': 'Feature', 'geometry': {'type': 'Mult...</td>\n",
       "    </tr>\n",
       "    <tr>\n",
       "      <th>4</th>\n",
       "      <td>FeatureCollection</td>\n",
       "      <td>{'type': 'Feature', 'geometry': {'type': 'Mult...</td>\n",
       "    </tr>\n",
       "  </tbody>\n",
       "</table>\n",
       "</div>"
      ],
      "text/plain": [
       "                type                                           features\n",
       "0  FeatureCollection  {'type': 'Feature', 'geometry': {'type': 'Mult...\n",
       "1  FeatureCollection  {'type': 'Feature', 'geometry': {'type': 'Mult...\n",
       "2  FeatureCollection  {'type': 'Feature', 'geometry': {'type': 'Mult...\n",
       "3  FeatureCollection  {'type': 'Feature', 'geometry': {'type': 'Mult...\n",
       "4  FeatureCollection  {'type': 'Feature', 'geometry': {'type': 'Mult..."
      ]
     },
     "execution_count": 3,
     "metadata": {},
     "output_type": "execute_result"
    }
   ],
   "source": [
    "df_b_neighbourhoods = pd.read_json('Boston/neighbourhoods.geojson')\n",
    "df_b_neighbourhoods.head()"
   ]
  },
  {
   "cell_type": "markdown",
   "metadata": {},
   "source": [
    "The 'reviews' table would be of interest for sentiment analysis, which again is beyond the scope of this project.\n",
    "\n",
    "'reviews' looks like a dimension table but surprisingly, it does not contain numerical review scores. These are found in the 'listings' table instead, which should suffice for our purposes."
   ]
  },
  {
   "cell_type": "code",
   "execution_count": 4,
   "metadata": {},
   "outputs": [
    {
     "data": {
      "text/html": [
       "<div>\n",
       "<style scoped>\n",
       "    .dataframe tbody tr th:only-of-type {\n",
       "        vertical-align: middle;\n",
       "    }\n",
       "\n",
       "    .dataframe tbody tr th {\n",
       "        vertical-align: top;\n",
       "    }\n",
       "\n",
       "    .dataframe thead th {\n",
       "        text-align: right;\n",
       "    }\n",
       "</style>\n",
       "<table border=\"1\" class=\"dataframe\">\n",
       "  <thead>\n",
       "    <tr style=\"text-align: right;\">\n",
       "      <th></th>\n",
       "      <th>listing_id</th>\n",
       "      <th>id</th>\n",
       "      <th>date</th>\n",
       "      <th>reviewer_id</th>\n",
       "      <th>reviewer_name</th>\n",
       "      <th>comments</th>\n",
       "    </tr>\n",
       "  </thead>\n",
       "  <tbody>\n",
       "    <tr>\n",
       "      <th>0</th>\n",
       "      <td>3781</td>\n",
       "      <td>37776825</td>\n",
       "      <td>2015-07-10</td>\n",
       "      <td>36059247</td>\n",
       "      <td>Greg</td>\n",
       "      <td>The apartment was as advertised and Frank was ...</td>\n",
       "    </tr>\n",
       "    <tr>\n",
       "      <th>1</th>\n",
       "      <td>3781</td>\n",
       "      <td>41842494</td>\n",
       "      <td>2015-08-09</td>\n",
       "      <td>10459388</td>\n",
       "      <td>Tai</td>\n",
       "      <td>It was a pleasure to stay at Frank's place. Th...</td>\n",
       "    </tr>\n",
       "    <tr>\n",
       "      <th>2</th>\n",
       "      <td>3781</td>\n",
       "      <td>45282151</td>\n",
       "      <td>2015-09-01</td>\n",
       "      <td>12264652</td>\n",
       "      <td>Damien</td>\n",
       "      <td>The apartment description is entirely faithful...</td>\n",
       "    </tr>\n",
       "    <tr>\n",
       "      <th>3</th>\n",
       "      <td>3781</td>\n",
       "      <td>49022647</td>\n",
       "      <td>2015-09-30</td>\n",
       "      <td>41426327</td>\n",
       "      <td>Mike</td>\n",
       "      <td>Thoroughly enjoyed my time at Frank's home. Ha...</td>\n",
       "    </tr>\n",
       "    <tr>\n",
       "      <th>4</th>\n",
       "      <td>3781</td>\n",
       "      <td>52503327</td>\n",
       "      <td>2015-10-30</td>\n",
       "      <td>15151513</td>\n",
       "      <td>Ivan</td>\n",
       "      <td>Great value for the money! This location has e...</td>\n",
       "    </tr>\n",
       "  </tbody>\n",
       "</table>\n",
       "</div>"
      ],
      "text/plain": [
       "   listing_id        id        date  reviewer_id reviewer_name  \\\n",
       "0        3781  37776825  2015-07-10     36059247          Greg   \n",
       "1        3781  41842494  2015-08-09     10459388           Tai   \n",
       "2        3781  45282151  2015-09-01     12264652        Damien   \n",
       "3        3781  49022647  2015-09-30     41426327          Mike   \n",
       "4        3781  52503327  2015-10-30     15151513          Ivan   \n",
       "\n",
       "                                            comments  \n",
       "0  The apartment was as advertised and Frank was ...  \n",
       "1  It was a pleasure to stay at Frank's place. Th...  \n",
       "2  The apartment description is entirely faithful...  \n",
       "3  Thoroughly enjoyed my time at Frank's home. Ha...  \n",
       "4  Great value for the money! This location has e...  "
      ]
     },
     "execution_count": 4,
     "metadata": {},
     "output_type": "execute_result"
    }
   ],
   "source": [
    "# reviews.csv is a subset of reviews.csv.gz, so it can be ignored\n",
    "df_b_reviews = pd.read_csv('Boston/reviews.csv.gz')\n",
    "df_b_reviews.head()"
   ]
  },
  {
   "cell_type": "markdown",
   "metadata": {},
   "source": [
    "The 'calendar' table sounds like it might be useful for looking at seasonal history.  However, it seems to be more about future booking than rental history.  We'll give it a look and put it on the shelf for now..."
   ]
  },
  {
   "cell_type": "code",
   "execution_count": 5,
   "metadata": {},
   "outputs": [
    {
     "data": {
      "text/html": [
       "<div>\n",
       "<style scoped>\n",
       "    .dataframe tbody tr th:only-of-type {\n",
       "        vertical-align: middle;\n",
       "    }\n",
       "\n",
       "    .dataframe tbody tr th {\n",
       "        vertical-align: top;\n",
       "    }\n",
       "\n",
       "    .dataframe thead th {\n",
       "        text-align: right;\n",
       "    }\n",
       "</style>\n",
       "<table border=\"1\" class=\"dataframe\">\n",
       "  <thead>\n",
       "    <tr style=\"text-align: right;\">\n",
       "      <th></th>\n",
       "      <th>listing_id</th>\n",
       "      <th>date</th>\n",
       "      <th>available</th>\n",
       "      <th>price</th>\n",
       "      <th>adjusted_price</th>\n",
       "      <th>minimum_nights</th>\n",
       "      <th>maximum_nights</th>\n",
       "    </tr>\n",
       "  </thead>\n",
       "  <tbody>\n",
       "    <tr>\n",
       "      <th>0</th>\n",
       "      <td>50032</td>\n",
       "      <td>2019-01-17</td>\n",
       "      <td>f</td>\n",
       "      <td>$538.00</td>\n",
       "      <td>$538.00</td>\n",
       "      <td>3</td>\n",
       "      <td>365</td>\n",
       "    </tr>\n",
       "    <tr>\n",
       "      <th>1</th>\n",
       "      <td>50032</td>\n",
       "      <td>2019-01-18</td>\n",
       "      <td>f</td>\n",
       "      <td>$550.00</td>\n",
       "      <td>$550.00</td>\n",
       "      <td>3</td>\n",
       "      <td>365</td>\n",
       "    </tr>\n",
       "    <tr>\n",
       "      <th>2</th>\n",
       "      <td>50032</td>\n",
       "      <td>2019-01-19</td>\n",
       "      <td>f</td>\n",
       "      <td>$562.00</td>\n",
       "      <td>$562.00</td>\n",
       "      <td>3</td>\n",
       "      <td>365</td>\n",
       "    </tr>\n",
       "    <tr>\n",
       "      <th>3</th>\n",
       "      <td>50032</td>\n",
       "      <td>2019-01-20</td>\n",
       "      <td>f</td>\n",
       "      <td>$575.00</td>\n",
       "      <td>$575.00</td>\n",
       "      <td>3</td>\n",
       "      <td>365</td>\n",
       "    </tr>\n",
       "    <tr>\n",
       "      <th>4</th>\n",
       "      <td>50032</td>\n",
       "      <td>2019-01-21</td>\n",
       "      <td>f</td>\n",
       "      <td>$588.00</td>\n",
       "      <td>$588.00</td>\n",
       "      <td>3</td>\n",
       "      <td>365</td>\n",
       "    </tr>\n",
       "  </tbody>\n",
       "</table>\n",
       "</div>"
      ],
      "text/plain": [
       "   listing_id        date available    price adjusted_price  minimum_nights  \\\n",
       "0       50032  2019-01-17         f  $538.00        $538.00               3   \n",
       "1       50032  2019-01-18         f  $550.00        $550.00               3   \n",
       "2       50032  2019-01-19         f  $562.00        $562.00               3   \n",
       "3       50032  2019-01-20         f  $575.00        $575.00               3   \n",
       "4       50032  2019-01-21         f  $588.00        $588.00               3   \n",
       "\n",
       "   maximum_nights  \n",
       "0             365  \n",
       "1             365  \n",
       "2             365  \n",
       "3             365  \n",
       "4             365  "
      ]
     },
     "execution_count": 5,
     "metadata": {},
     "output_type": "execute_result"
    }
   ],
   "source": [
    "df_b_calendar = pd.read_csv('Boston/calendar.csv.gz')\n",
    "df_b_calendar.head()"
   ]
  },
  {
   "cell_type": "code",
   "execution_count": 6,
   "metadata": {},
   "outputs": [
    {
     "name": "stdout",
     "output_type": "stream",
     "text": [
      "<class 'pandas.core.frame.DataFrame'>\n",
      "RangeIndex: 2280155 entries, 0 to 2280154\n",
      "Data columns (total 7 columns):\n",
      "listing_id        int64\n",
      "date              object\n",
      "available         object\n",
      "price             object\n",
      "adjusted_price    object\n",
      "minimum_nights    int64\n",
      "maximum_nights    int64\n",
      "dtypes: int64(3), object(4)\n",
      "memory usage: 121.8+ MB\n"
     ]
    }
   ],
   "source": [
    "df_b_calendar.info()"
   ]
  },
  {
   "cell_type": "code",
   "execution_count": 7,
   "metadata": {},
   "outputs": [
    {
     "data": {
      "text/plain": [
       "listing_id        6247\n",
       "date               365\n",
       "available            2\n",
       "price             2172\n",
       "adjusted_price    2171\n",
       "minimum_nights      48\n",
       "maximum_nights     142\n",
       "dtype: int64"
      ]
     },
     "execution_count": 7,
     "metadata": {},
     "output_type": "execute_result"
    }
   ],
   "source": [
    "df_b_calendar.nunique()"
   ]
  },
  {
   "cell_type": "code",
   "execution_count": 8,
   "metadata": {},
   "outputs": [],
   "source": [
    "df_b_calendar.hist(layout=(1,3), figsize=(12,3));"
   ]
  },
  {
   "cell_type": "code",
   "execution_count": 9,
   "metadata": {},
   "outputs": [
    {
     "data": {
      "text/html": [
       "<div>\n",
       "<style scoped>\n",
       "    .dataframe tbody tr th:only-of-type {\n",
       "        vertical-align: middle;\n",
       "    }\n",
       "\n",
       "    .dataframe tbody tr th {\n",
       "        vertical-align: top;\n",
       "    }\n",
       "\n",
       "    .dataframe thead th {\n",
       "        text-align: right;\n",
       "    }\n",
       "</style>\n",
       "<table border=\"1\" class=\"dataframe\">\n",
       "  <thead>\n",
       "    <tr style=\"text-align: right;\">\n",
       "      <th></th>\n",
       "      <th>listing_id</th>\n",
       "      <th>minimum_nights</th>\n",
       "      <th>maximum_nights</th>\n",
       "    </tr>\n",
       "  </thead>\n",
       "  <tbody>\n",
       "    <tr>\n",
       "      <th>count</th>\n",
       "      <td>2.280155e+06</td>\n",
       "      <td>2.280155e+06</td>\n",
       "      <td>2.280155e+06</td>\n",
       "    </tr>\n",
       "    <tr>\n",
       "      <th>mean</th>\n",
       "      <td>1.862067e+07</td>\n",
       "      <td>6.700191e+00</td>\n",
       "      <td>1.674891e+04</td>\n",
       "    </tr>\n",
       "    <tr>\n",
       "      <th>std</th>\n",
       "      <td>8.747444e+06</td>\n",
       "      <td>3.992715e+01</td>\n",
       "      <td>1.265104e+06</td>\n",
       "    </tr>\n",
       "    <tr>\n",
       "      <th>min</th>\n",
       "      <td>3.781000e+03</td>\n",
       "      <td>1.000000e+00</td>\n",
       "      <td>1.000000e+00</td>\n",
       "    </tr>\n",
       "    <tr>\n",
       "      <th>25%</th>\n",
       "      <td>1.256606e+07</td>\n",
       "      <td>1.000000e+00</td>\n",
       "      <td>1.090000e+02</td>\n",
       "    </tr>\n",
       "    <tr>\n",
       "      <th>50%</th>\n",
       "      <td>2.028121e+07</td>\n",
       "      <td>2.000000e+00</td>\n",
       "      <td>1.125000e+03</td>\n",
       "    </tr>\n",
       "    <tr>\n",
       "      <th>75%</th>\n",
       "      <td>2.580413e+07</td>\n",
       "      <td>3.000000e+00</td>\n",
       "      <td>1.125000e+03</td>\n",
       "    </tr>\n",
       "    <tr>\n",
       "      <th>max</th>\n",
       "      <td>3.162409e+07</td>\n",
       "      <td>9.990000e+02</td>\n",
       "      <td>1.000000e+08</td>\n",
       "    </tr>\n",
       "  </tbody>\n",
       "</table>\n",
       "</div>"
      ],
      "text/plain": [
       "         listing_id  minimum_nights  maximum_nights\n",
       "count  2.280155e+06    2.280155e+06    2.280155e+06\n",
       "mean   1.862067e+07    6.700191e+00    1.674891e+04\n",
       "std    8.747444e+06    3.992715e+01    1.265104e+06\n",
       "min    3.781000e+03    1.000000e+00    1.000000e+00\n",
       "25%    1.256606e+07    1.000000e+00    1.090000e+02\n",
       "50%    2.028121e+07    2.000000e+00    1.125000e+03\n",
       "75%    2.580413e+07    3.000000e+00    1.125000e+03\n",
       "max    3.162409e+07    9.990000e+02    1.000000e+08"
      ]
     },
     "execution_count": 9,
     "metadata": {},
     "output_type": "execute_result"
    }
   ],
   "source": [
    "df_b_calendar.describe()"
   ]
  },
  {
   "cell_type": "markdown",
   "metadata": {},
   "source": [
    "It seems that any data pertinent to these questions exists in the 'listings' table."
   ]
  },
  {
   "cell_type": "code",
   "execution_count": 10,
   "metadata": {},
   "outputs": [
    {
     "name": "stderr",
     "output_type": "stream",
     "text": [
      "C:\\Users\\PaulW\\Anaconda3\\envs\\tf\\lib\\site-packages\\IPython\\core\\interactiveshell.py:3057: DtypeWarning: Columns (61,62,94) have mixed types. Specify dtype option on import or set low_memory=False.\n",
      "  interactivity=interactivity, compiler=compiler, result=result)\n"
     ]
    },
    {
     "data": {
      "text/html": [
       "<div>\n",
       "<style scoped>\n",
       "    .dataframe tbody tr th:only-of-type {\n",
       "        vertical-align: middle;\n",
       "    }\n",
       "\n",
       "    .dataframe tbody tr th {\n",
       "        vertical-align: top;\n",
       "    }\n",
       "\n",
       "    .dataframe thead th {\n",
       "        text-align: right;\n",
       "    }\n",
       "</style>\n",
       "<table border=\"1\" class=\"dataframe\">\n",
       "  <thead>\n",
       "    <tr style=\"text-align: right;\">\n",
       "      <th></th>\n",
       "      <th>id</th>\n",
       "      <th>listing_url</th>\n",
       "      <th>scrape_id</th>\n",
       "      <th>last_scraped</th>\n",
       "      <th>name</th>\n",
       "      <th>summary</th>\n",
       "      <th>space</th>\n",
       "      <th>description</th>\n",
       "      <th>experiences_offered</th>\n",
       "      <th>neighborhood_overview</th>\n",
       "      <th>...</th>\n",
       "      <th>instant_bookable</th>\n",
       "      <th>is_business_travel_ready</th>\n",
       "      <th>cancellation_policy</th>\n",
       "      <th>require_guest_profile_picture</th>\n",
       "      <th>require_guest_phone_verification</th>\n",
       "      <th>calculated_host_listings_count</th>\n",
       "      <th>calculated_host_listings_count_entire_homes</th>\n",
       "      <th>calculated_host_listings_count_private_rooms</th>\n",
       "      <th>calculated_host_listings_count_shared_rooms</th>\n",
       "      <th>reviews_per_month</th>\n",
       "    </tr>\n",
       "  </thead>\n",
       "  <tbody>\n",
       "    <tr>\n",
       "      <th>0</th>\n",
       "      <td>3781</td>\n",
       "      <td>https://www.airbnb.com/rooms/3781</td>\n",
       "      <td>20190117205200</td>\n",
       "      <td>2019-01-17</td>\n",
       "      <td>HARBORSIDE-Walk to subway</td>\n",
       "      <td>Fully separate apartment in a two apartment bu...</td>\n",
       "      <td>This is a totally separate apartment located o...</td>\n",
       "      <td>Fully separate apartment in a two apartment bu...</td>\n",
       "      <td>none</td>\n",
       "      <td>Mostly quiet ( no loud music, no crowed sidewa...</td>\n",
       "      <td>...</td>\n",
       "      <td>f</td>\n",
       "      <td>f</td>\n",
       "      <td>super_strict_30</td>\n",
       "      <td>f</td>\n",
       "      <td>f</td>\n",
       "      <td>1</td>\n",
       "      <td>1</td>\n",
       "      <td>0</td>\n",
       "      <td>0</td>\n",
       "      <td>0.33</td>\n",
       "    </tr>\n",
       "    <tr>\n",
       "      <th>1</th>\n",
       "      <td>5506</td>\n",
       "      <td>https://www.airbnb.com/rooms/5506</td>\n",
       "      <td>20190117205200</td>\n",
       "      <td>2019-01-17</td>\n",
       "      <td>**$79 Special **   Private! Minutes to center!</td>\n",
       "      <td>This is a private guest room with private bath...</td>\n",
       "      <td>**THE BEST Value in BOSTON!!*** PRIVATE GUEST ...</td>\n",
       "      <td>This is a private guest room with private bath...</td>\n",
       "      <td>none</td>\n",
       "      <td>Peacful, Architecturally interesting, historic...</td>\n",
       "      <td>...</td>\n",
       "      <td>t</td>\n",
       "      <td>f</td>\n",
       "      <td>strict_14_with_grace_period</td>\n",
       "      <td>f</td>\n",
       "      <td>f</td>\n",
       "      <td>6</td>\n",
       "      <td>6</td>\n",
       "      <td>0</td>\n",
       "      <td>0</td>\n",
       "      <td>0.67</td>\n",
       "    </tr>\n",
       "    <tr>\n",
       "      <th>2</th>\n",
       "      <td>6695</td>\n",
       "      <td>https://www.airbnb.com/rooms/6695</td>\n",
       "      <td>20190117205200</td>\n",
       "      <td>2019-01-17</td>\n",
       "      <td>$99 Special!! Home Away! Condo</td>\n",
       "      <td>NaN</td>\n",
       "      <td>** WELCOME *** FULL PRIVATE APARTMENT In a His...</td>\n",
       "      <td>** WELCOME *** FULL PRIVATE APARTMENT In a His...</td>\n",
       "      <td>none</td>\n",
       "      <td>Peaceful, Architecturally interesting, histori...</td>\n",
       "      <td>...</td>\n",
       "      <td>t</td>\n",
       "      <td>f</td>\n",
       "      <td>strict_14_with_grace_period</td>\n",
       "      <td>f</td>\n",
       "      <td>f</td>\n",
       "      <td>6</td>\n",
       "      <td>6</td>\n",
       "      <td>0</td>\n",
       "      <td>0</td>\n",
       "      <td>0.74</td>\n",
       "    </tr>\n",
       "    <tr>\n",
       "      <th>3</th>\n",
       "      <td>6976</td>\n",
       "      <td>https://www.airbnb.com/rooms/6976</td>\n",
       "      <td>20190117205200</td>\n",
       "      <td>2019-01-17</td>\n",
       "      <td>Mexican Folk Art Haven in Boston Residential Area</td>\n",
       "      <td>Come stay with me in Boston's Roslindale neigh...</td>\n",
       "      <td>This is a well-maintained, two-family house bu...</td>\n",
       "      <td>Come stay with me in Boston's Roslindale neigh...</td>\n",
       "      <td>none</td>\n",
       "      <td>The LOCATION: Roslindale is a safe and diverse...</td>\n",
       "      <td>...</td>\n",
       "      <td>f</td>\n",
       "      <td>f</td>\n",
       "      <td>moderate</td>\n",
       "      <td>t</td>\n",
       "      <td>f</td>\n",
       "      <td>1</td>\n",
       "      <td>0</td>\n",
       "      <td>1</td>\n",
       "      <td>0</td>\n",
       "      <td>0.65</td>\n",
       "    </tr>\n",
       "    <tr>\n",
       "      <th>4</th>\n",
       "      <td>8789</td>\n",
       "      <td>https://www.airbnb.com/rooms/8789</td>\n",
       "      <td>20190117205200</td>\n",
       "      <td>2019-01-17</td>\n",
       "      <td>Curved Glass Studio/1bd facing Park</td>\n",
       "      <td>Bright, 1 bed with curved glass windows facing...</td>\n",
       "      <td>Fully Furnished studio with enclosed bedroom. ...</td>\n",
       "      <td>Bright, 1 bed with curved glass windows facing...</td>\n",
       "      <td>none</td>\n",
       "      <td>Beacon Hill is a historic neighborhood filled ...</td>\n",
       "      <td>...</td>\n",
       "      <td>f</td>\n",
       "      <td>f</td>\n",
       "      <td>strict_14_with_grace_period</td>\n",
       "      <td>f</td>\n",
       "      <td>f</td>\n",
       "      <td>10</td>\n",
       "      <td>10</td>\n",
       "      <td>0</td>\n",
       "      <td>0</td>\n",
       "      <td>0.41</td>\n",
       "    </tr>\n",
       "  </tbody>\n",
       "</table>\n",
       "<p>5 rows × 106 columns</p>\n",
       "</div>"
      ],
      "text/plain": [
       "     id                        listing_url       scrape_id last_scraped  \\\n",
       "0  3781  https://www.airbnb.com/rooms/3781  20190117205200   2019-01-17   \n",
       "1  5506  https://www.airbnb.com/rooms/5506  20190117205200   2019-01-17   \n",
       "2  6695  https://www.airbnb.com/rooms/6695  20190117205200   2019-01-17   \n",
       "3  6976  https://www.airbnb.com/rooms/6976  20190117205200   2019-01-17   \n",
       "4  8789  https://www.airbnb.com/rooms/8789  20190117205200   2019-01-17   \n",
       "\n",
       "                                                name  \\\n",
       "0                          HARBORSIDE-Walk to subway   \n",
       "1     **$79 Special **   Private! Minutes to center!   \n",
       "2                     $99 Special!! Home Away! Condo   \n",
       "3  Mexican Folk Art Haven in Boston Residential Area   \n",
       "4                Curved Glass Studio/1bd facing Park   \n",
       "\n",
       "                                             summary  \\\n",
       "0  Fully separate apartment in a two apartment bu...   \n",
       "1  This is a private guest room with private bath...   \n",
       "2                                                NaN   \n",
       "3  Come stay with me in Boston's Roslindale neigh...   \n",
       "4  Bright, 1 bed with curved glass windows facing...   \n",
       "\n",
       "                                               space  \\\n",
       "0  This is a totally separate apartment located o...   \n",
       "1  **THE BEST Value in BOSTON!!*** PRIVATE GUEST ...   \n",
       "2  ** WELCOME *** FULL PRIVATE APARTMENT In a His...   \n",
       "3  This is a well-maintained, two-family house bu...   \n",
       "4  Fully Furnished studio with enclosed bedroom. ...   \n",
       "\n",
       "                                         description experiences_offered  \\\n",
       "0  Fully separate apartment in a two apartment bu...                none   \n",
       "1  This is a private guest room with private bath...                none   \n",
       "2  ** WELCOME *** FULL PRIVATE APARTMENT In a His...                none   \n",
       "3  Come stay with me in Boston's Roslindale neigh...                none   \n",
       "4  Bright, 1 bed with curved glass windows facing...                none   \n",
       "\n",
       "                               neighborhood_overview  ... instant_bookable  \\\n",
       "0  Mostly quiet ( no loud music, no crowed sidewa...  ...                f   \n",
       "1  Peacful, Architecturally interesting, historic...  ...                t   \n",
       "2  Peaceful, Architecturally interesting, histori...  ...                t   \n",
       "3  The LOCATION: Roslindale is a safe and diverse...  ...                f   \n",
       "4  Beacon Hill is a historic neighborhood filled ...  ...                f   \n",
       "\n",
       "  is_business_travel_ready          cancellation_policy  \\\n",
       "0                        f              super_strict_30   \n",
       "1                        f  strict_14_with_grace_period   \n",
       "2                        f  strict_14_with_grace_period   \n",
       "3                        f                     moderate   \n",
       "4                        f  strict_14_with_grace_period   \n",
       "\n",
       "  require_guest_profile_picture require_guest_phone_verification  \\\n",
       "0                             f                                f   \n",
       "1                             f                                f   \n",
       "2                             f                                f   \n",
       "3                             t                                f   \n",
       "4                             f                                f   \n",
       "\n",
       "   calculated_host_listings_count  \\\n",
       "0                               1   \n",
       "1                               6   \n",
       "2                               6   \n",
       "3                               1   \n",
       "4                              10   \n",
       "\n",
       "   calculated_host_listings_count_entire_homes  \\\n",
       "0                                            1   \n",
       "1                                            6   \n",
       "2                                            6   \n",
       "3                                            0   \n",
       "4                                           10   \n",
       "\n",
       "  calculated_host_listings_count_private_rooms  \\\n",
       "0                                            0   \n",
       "1                                            0   \n",
       "2                                            0   \n",
       "3                                            1   \n",
       "4                                            0   \n",
       "\n",
       "   calculated_host_listings_count_shared_rooms  reviews_per_month  \n",
       "0                                            0               0.33  \n",
       "1                                            0               0.67  \n",
       "2                                            0               0.74  \n",
       "3                                            0               0.65  \n",
       "4                                            0               0.41  \n",
       "\n",
       "[5 rows x 106 columns]"
      ]
     },
     "execution_count": 10,
     "metadata": {},
     "output_type": "execute_result"
    }
   ],
   "source": [
    "df_b_listings = pd.read_csv('Boston/listings.csv.gz')\n",
    "df_s_listings = pd.read_csv('Seattle/listings.csv.gz')\n",
    "df_b_listings.head()"
   ]
  },
  {
   "cell_type": "code",
   "execution_count": 11,
   "metadata": {},
   "outputs": [
    {
     "name": "stdout",
     "output_type": "stream",
     "text": [
      "<class 'pandas.core.frame.DataFrame'>\n",
      "RangeIndex: 6247 entries, 0 to 6246\n",
      "Columns: 106 entries, id to reviews_per_month\n",
      "dtypes: float64(23), int64(23), object(60)\n",
      "memory usage: 5.1+ MB\n"
     ]
    }
   ],
   "source": [
    "df_b_listings.info()"
   ]
  },
  {
   "cell_type": "code",
   "execution_count": 12,
   "metadata": {},
   "outputs": [
    {
     "data": {
      "text/plain": [
       "id                                              6247\n",
       "listing_url                                     6247\n",
       "scrape_id                                          1\n",
       "last_scraped                                       1\n",
       "name                                            6002\n",
       "summary                                         4938\n",
       "space                                           3534\n",
       "description                                     5381\n",
       "experiences_offered                                1\n",
       "neighborhood_overview                           2616\n",
       "notes                                           2276\n",
       "transit                                         2829\n",
       "access                                          2606\n",
       "interaction                                     2397\n",
       "house_rules                                     2683\n",
       "thumbnail_url                                      0\n",
       "medium_url                                         0\n",
       "picture_url                                     6088\n",
       "xl_picture_url                                     0\n",
       "host_id                                         2796\n",
       "host_url                                        2796\n",
       "host_name                                       1578\n",
       "host_since                                      1705\n",
       "host_location                                    239\n",
       "host_about                                      1601\n",
       "host_response_time                                 4\n",
       "host_response_rate                                37\n",
       "host_acceptance_rate                               0\n",
       "host_is_superhost                                  2\n",
       "host_thumbnail_url                              2791\n",
       "                                                ... \n",
       "has_availability                                   1\n",
       "availability_30                                   31\n",
       "availability_60                                   61\n",
       "availability_90                                   91\n",
       "availability_365                                 366\n",
       "calendar_last_scraped                              1\n",
       "number_of_reviews                                297\n",
       "number_of_reviews_ltm                            128\n",
       "first_review                                    1547\n",
       "last_review                                      758\n",
       "review_scores_rating                              46\n",
       "review_scores_accuracy                             9\n",
       "review_scores_cleanliness                          9\n",
       "review_scores_checkin                              8\n",
       "review_scores_communication                        8\n",
       "review_scores_location                             9\n",
       "review_scores_value                                8\n",
       "requires_license                                   1\n",
       "license                                            0\n",
       "jurisdiction_names                                 0\n",
       "instant_bookable                                   2\n",
       "is_business_travel_ready                           1\n",
       "cancellation_policy                                6\n",
       "require_guest_profile_picture                      2\n",
       "require_guest_phone_verification                   2\n",
       "calculated_host_listings_count                    41\n",
       "calculated_host_listings_count_entire_homes       39\n",
       "calculated_host_listings_count_private_rooms      20\n",
       "calculated_host_listings_count_shared_rooms        6\n",
       "reviews_per_month                                797\n",
       "Length: 106, dtype: int64"
      ]
     },
     "execution_count": 12,
     "metadata": {},
     "output_type": "execute_result"
    }
   ],
   "source": [
    "df_b_listings.nunique()"
   ]
  },
  {
   "cell_type": "markdown",
   "metadata": {},
   "source": [
    "# CRISP-DM step 3: Prepare the Data"
   ]
  },
  {
   "cell_type": "markdown",
   "metadata": {},
   "source": [
    "The 'listings' table is rather wide and has quite a few columns that are not pertinent.  Let's prune it down a lot before cleaning it."
   ]
  },
  {
   "cell_type": "code",
   "execution_count": 13,
   "metadata": {},
   "outputs": [],
   "source": [
    "# remove outliers and non-BnB-type properties\n",
    "def prune_listings(df):\n",
    "    print(f'Raw  : {df.shape}')\n",
    "    df.bedrooms.fillna(df.bedrooms.mean(), inplace=True)\n",
    "    df.bedrooms = df.bedrooms.astype('int')\n",
    "    df.beds.fillna(df.beds.mean(), inplace=True)\n",
    "    df.beds = df.beds.astype('int')\n",
    "    df = df[(0 < df.accommodates) & (df.accommodates <= 8)]\n",
    "    df = df[df.bedrooms <= 5]\n",
    "    df = df[(0 < df.beds) & (df.beds <= 6)]\n",
    "    df = df[(0 < df.bathrooms) & (df.bathrooms <= 4)]\n",
    "    print(f'Clean: {df.shape}')\n",
    "    return df"
   ]
  },
  {
   "cell_type": "code",
   "execution_count": 14,
   "metadata": {
    "scrolled": true
   },
   "outputs": [
    {
     "name": "stdout",
     "output_type": "stream",
     "text": [
      "Raw  : (14706, 26)\n",
      "Clean: (14185, 26)\n"
     ]
    },
    {
     "data": {
      "text/html": [
       "<div>\n",
       "<style scoped>\n",
       "    .dataframe tbody tr th:only-of-type {\n",
       "        vertical-align: middle;\n",
       "    }\n",
       "\n",
       "    .dataframe tbody tr th {\n",
       "        vertical-align: top;\n",
       "    }\n",
       "\n",
       "    .dataframe thead th {\n",
       "        text-align: right;\n",
       "    }\n",
       "</style>\n",
       "<table border=\"1\" class=\"dataframe\">\n",
       "  <thead>\n",
       "    <tr style=\"text-align: right;\">\n",
       "      <th></th>\n",
       "      <th>id</th>\n",
       "      <th>neighbourhood_cleansed</th>\n",
       "      <th>smart_location</th>\n",
       "      <th>latitude</th>\n",
       "      <th>longitude</th>\n",
       "      <th>property_type</th>\n",
       "      <th>room_type</th>\n",
       "      <th>accommodates</th>\n",
       "      <th>bathrooms</th>\n",
       "      <th>bedrooms</th>\n",
       "      <th>...</th>\n",
       "      <th>monthly_price</th>\n",
       "      <th>guests_included</th>\n",
       "      <th>extra_people</th>\n",
       "      <th>minimum_nights</th>\n",
       "      <th>maximum_nights</th>\n",
       "      <th>number_of_reviews</th>\n",
       "      <th>number_of_reviews_ltm</th>\n",
       "      <th>first_review</th>\n",
       "      <th>last_review</th>\n",
       "      <th>is_business_travel_ready</th>\n",
       "    </tr>\n",
       "  </thead>\n",
       "  <tbody>\n",
       "    <tr>\n",
       "      <th>0</th>\n",
       "      <td>3781</td>\n",
       "      <td>East Boston</td>\n",
       "      <td>Boston, MA</td>\n",
       "      <td>42.365241</td>\n",
       "      <td>-71.029361</td>\n",
       "      <td>Apartment</td>\n",
       "      <td>Entire home/apt</td>\n",
       "      <td>2</td>\n",
       "      <td>1.0</td>\n",
       "      <td>1</td>\n",
       "      <td>...</td>\n",
       "      <td>$2,250.00</td>\n",
       "      <td>2</td>\n",
       "      <td>$0.00</td>\n",
       "      <td>30</td>\n",
       "      <td>1125</td>\n",
       "      <td>14</td>\n",
       "      <td>1</td>\n",
       "      <td>2015-07-10</td>\n",
       "      <td>2018-07-02</td>\n",
       "      <td>f</td>\n",
       "    </tr>\n",
       "    <tr>\n",
       "      <th>1</th>\n",
       "      <td>5506</td>\n",
       "      <td>Roxbury</td>\n",
       "      <td>Boston, MA</td>\n",
       "      <td>42.329809</td>\n",
       "      <td>-71.095595</td>\n",
       "      <td>Guest suite</td>\n",
       "      <td>Entire home/apt</td>\n",
       "      <td>2</td>\n",
       "      <td>1.0</td>\n",
       "      <td>1</td>\n",
       "      <td>...</td>\n",
       "      <td>$3,000.00</td>\n",
       "      <td>1</td>\n",
       "      <td>$0.00</td>\n",
       "      <td>3</td>\n",
       "      <td>730</td>\n",
       "      <td>80</td>\n",
       "      <td>29</td>\n",
       "      <td>2009-03-21</td>\n",
       "      <td>2018-11-18</td>\n",
       "      <td>f</td>\n",
       "    </tr>\n",
       "    <tr>\n",
       "      <th>2</th>\n",
       "      <td>6695</td>\n",
       "      <td>Roxbury</td>\n",
       "      <td>Boston, MA</td>\n",
       "      <td>42.329941</td>\n",
       "      <td>-71.093505</td>\n",
       "      <td>Condominium</td>\n",
       "      <td>Entire home/apt</td>\n",
       "      <td>4</td>\n",
       "      <td>1.0</td>\n",
       "      <td>1</td>\n",
       "      <td>...</td>\n",
       "      <td>NaN</td>\n",
       "      <td>2</td>\n",
       "      <td>$8.00</td>\n",
       "      <td>3</td>\n",
       "      <td>730</td>\n",
       "      <td>85</td>\n",
       "      <td>19</td>\n",
       "      <td>2009-08-06</td>\n",
       "      <td>2018-11-25</td>\n",
       "      <td>f</td>\n",
       "    </tr>\n",
       "    <tr>\n",
       "      <th>3</th>\n",
       "      <td>6976</td>\n",
       "      <td>Roslindale</td>\n",
       "      <td>Boston, MA</td>\n",
       "      <td>42.292438</td>\n",
       "      <td>-71.135765</td>\n",
       "      <td>Apartment</td>\n",
       "      <td>Private room</td>\n",
       "      <td>2</td>\n",
       "      <td>1.0</td>\n",
       "      <td>1</td>\n",
       "      <td>...</td>\n",
       "      <td>$1,350.00</td>\n",
       "      <td>1</td>\n",
       "      <td>$30.00</td>\n",
       "      <td>3</td>\n",
       "      <td>60</td>\n",
       "      <td>75</td>\n",
       "      <td>15</td>\n",
       "      <td>2009-07-19</td>\n",
       "      <td>2018-10-23</td>\n",
       "      <td>f</td>\n",
       "    </tr>\n",
       "    <tr>\n",
       "      <th>4</th>\n",
       "      <td>8789</td>\n",
       "      <td>Downtown</td>\n",
       "      <td>Boston, MA</td>\n",
       "      <td>42.359187</td>\n",
       "      <td>-71.062651</td>\n",
       "      <td>Apartment</td>\n",
       "      <td>Entire home/apt</td>\n",
       "      <td>2</td>\n",
       "      <td>1.0</td>\n",
       "      <td>1</td>\n",
       "      <td>...</td>\n",
       "      <td>$2,900.00</td>\n",
       "      <td>1</td>\n",
       "      <td>$0.00</td>\n",
       "      <td>30</td>\n",
       "      <td>365</td>\n",
       "      <td>22</td>\n",
       "      <td>8</td>\n",
       "      <td>2014-08-12</td>\n",
       "      <td>2018-12-20</td>\n",
       "      <td>f</td>\n",
       "    </tr>\n",
       "  </tbody>\n",
       "</table>\n",
       "<p>5 rows × 26 columns</p>\n",
       "</div>"
      ],
      "text/plain": [
       "     id neighbourhood_cleansed smart_location   latitude  longitude  \\\n",
       "0  3781            East Boston     Boston, MA  42.365241 -71.029361   \n",
       "1  5506                Roxbury     Boston, MA  42.329809 -71.095595   \n",
       "2  6695                Roxbury     Boston, MA  42.329941 -71.093505   \n",
       "3  6976             Roslindale     Boston, MA  42.292438 -71.135765   \n",
       "4  8789               Downtown     Boston, MA  42.359187 -71.062651   \n",
       "\n",
       "  property_type        room_type  accommodates  bathrooms  bedrooms  ...  \\\n",
       "0     Apartment  Entire home/apt             2        1.0         1  ...   \n",
       "1   Guest suite  Entire home/apt             2        1.0         1  ...   \n",
       "2   Condominium  Entire home/apt             4        1.0         1  ...   \n",
       "3     Apartment     Private room             2        1.0         1  ...   \n",
       "4     Apartment  Entire home/apt             2        1.0         1  ...   \n",
       "\n",
       "   monthly_price guests_included extra_people  minimum_nights maximum_nights  \\\n",
       "0      $2,250.00               2        $0.00              30           1125   \n",
       "1      $3,000.00               1        $0.00               3            730   \n",
       "2            NaN               2        $8.00               3            730   \n",
       "3      $1,350.00               1       $30.00               3             60   \n",
       "4      $2,900.00               1        $0.00              30            365   \n",
       "\n",
       "  number_of_reviews number_of_reviews_ltm  first_review last_review  \\\n",
       "0                14                     1    2015-07-10  2018-07-02   \n",
       "1                80                    29    2009-03-21  2018-11-18   \n",
       "2                85                    19    2009-08-06  2018-11-25   \n",
       "3                75                    15    2009-07-19  2018-10-23   \n",
       "4                22                     8    2014-08-12  2018-12-20   \n",
       "\n",
       "   is_business_travel_ready  \n",
       "0                         f  \n",
       "1                         f  \n",
       "2                         f  \n",
       "3                         f  \n",
       "4                         f  \n",
       "\n",
       "[5 rows x 26 columns]"
      ]
     },
     "execution_count": 14,
     "metadata": {},
     "output_type": "execute_result"
    }
   ],
   "source": [
    "used = [\n",
    "'id',\n",
    "#'listing_url',\n",
    "#'scrape_id',\n",
    "#'last_scraped',\n",
    "#'name',\n",
    "#'summary',\n",
    "#'space',\n",
    "#'description',\n",
    "#'experiences_offered',\n",
    "#'neighborhood_overview',\n",
    "#'notes',\n",
    "#'transit',\n",
    "#'access',\n",
    "#'interaction',\n",
    "#'house_rules',\n",
    "#'thumbnail_url',\n",
    "#'medium_url',\n",
    "#'picture_url',\n",
    "#'xl_picture_url',\n",
    "#'host_id',\n",
    "#'host_url',\n",
    "#'host_name',\n",
    "#'host_since',\n",
    "#'host_location',\n",
    "#'host_about',\n",
    "#'host_response_time',\n",
    "#'host_response_rate',\n",
    "#'host_acceptance_rate',\n",
    "#'host_is_superhost',\n",
    "#'host_thumbnail_url',\n",
    "#'host_picture_url',\n",
    "#'host_neighbourhood',\n",
    "#'host_listings_count',\n",
    "#'host_total_listings_count',\n",
    "#'host_verifications',\n",
    "#'host_has_profile_pic',\n",
    "#'host_identity_verified',\n",
    "#'street',\n",
    "#'neighbourhood',\n",
    "'neighbourhood_cleansed',\n",
    "#'neighbourhood_group_cleansed',\n",
    "#'city',\n",
    "#'state',\n",
    "#'zipcode',\n",
    "#'market',\n",
    "'smart_location',\n",
    "#'country_code',\n",
    "#'country',\n",
    "'latitude',\n",
    "'longitude',\n",
    "#'is_location_exact',\n",
    "'property_type',\n",
    "'room_type',\n",
    "'accommodates',\n",
    "'bathrooms',\n",
    "'bedrooms',\n",
    "'beds',\n",
    "'bed_type',\n",
    "'amenities',\n",
    "'square_feet',\n",
    "'price',\n",
    "'weekly_price',\n",
    "'monthly_price',\n",
    "#'security_deposit',\n",
    "#'cleaning_fee',\n",
    "'guests_included',\n",
    "'extra_people',\n",
    "'minimum_nights',\n",
    "'maximum_nights',\n",
    "#'minimum_minimum_nights',\n",
    "#'maximum_minimum_nights',\n",
    "#'minimum_maximum_nights',\n",
    "#'maximum_maximum_nights',\n",
    "#'minimum_nights_avg_ntm',\n",
    "#'maximum_nights_avg_ntm',\n",
    "#'calendar_updated',\n",
    "#'has_availability',\n",
    "#'availability_30',\n",
    "#'availability_60',\n",
    "#'availability_90',\n",
    "#'availability_365',\n",
    "#'calendar_last_scraped',\n",
    "'number_of_reviews',\n",
    "'number_of_reviews_ltm',\n",
    "'first_review',\n",
    "'last_review',\n",
    "#'review_scores_rating',\n",
    "#'review_scores_accuracy',\n",
    "#'review_scores_cleanliness',\n",
    "#'review_scores_checkin',\n",
    "#'review_scores_communication',\n",
    "#'review_scores_location',\n",
    "#'review_scores_value',\n",
    "#'requires_license',\n",
    "#'license',\n",
    "#'jurisdiction_names',\n",
    "#'instant_bookable',\n",
    "'is_business_travel_ready',\n",
    "#'cancellation_policy',\n",
    "#'require_guest_profile_picture',\n",
    "#'require_guest_phone_verification',\n",
    "#'calculated_host_listings_count',\n",
    "#'calculated_host_listings_count_entire_homes',\n",
    "#'calculated_host_listings_count_private_rooms',\n",
    "#'calculated_host_listings_count_shared_rooms',\n",
    "#'reviews_per_month',\n",
    "]\n",
    "df_b_listings = df_b_listings[used]\n",
    "df_s_listings = df_s_listings[used]\n",
    "df_listings = df_b_listings.append(df_s_listings)\n",
    "df_listings = prune_listings(df_listings)\n",
    "df_listings.head()"
   ]
  },
  {
   "cell_type": "code",
   "execution_count": 15,
   "metadata": {},
   "outputs": [
    {
     "data": {
      "text/plain": [
       "43442"
      ]
     },
     "execution_count": 15,
     "metadata": {},
     "output_type": "execute_result"
    }
   ],
   "source": [
    "df_listings.isna().sum().sum()"
   ]
  },
  {
   "cell_type": "code",
   "execution_count": 16,
   "metadata": {},
   "outputs": [
    {
     "data": {
      "text/plain": [
       "id                              0\n",
       "neighbourhood_cleansed          0\n",
       "smart_location                  0\n",
       "latitude                        0\n",
       "longitude                       0\n",
       "property_type                   0\n",
       "room_type                       0\n",
       "accommodates                    0\n",
       "bathrooms                       0\n",
       "bedrooms                        0\n",
       "beds                            0\n",
       "bed_type                        0\n",
       "amenities                       0\n",
       "square_feet                 13754\n",
       "price                           0\n",
       "weekly_price                12564\n",
       "monthly_price               12802\n",
       "guests_included                 0\n",
       "extra_people                    0\n",
       "minimum_nights                  0\n",
       "maximum_nights                  0\n",
       "number_of_reviews               0\n",
       "number_of_reviews_ltm           0\n",
       "first_review                 2161\n",
       "last_review                  2161\n",
       "is_business_travel_ready        0\n",
       "dtype: int64"
      ]
     },
     "execution_count": 16,
     "metadata": {},
     "output_type": "execute_result"
    }
   ],
   "source": [
    "df_listings.isna().sum()"
   ]
  },
  {
   "cell_type": "markdown",
   "metadata": {},
   "source": [
    "# CRISP-DM steps 4 & 5: Data Modeling & Evaluate the Results"
   ]
  },
  {
   "cell_type": "markdown",
   "metadata": {},
   "source": [
    "A business really needs to know its _customers_, but this database is mainly about the _rental properties_.  Still, we can work with the data available.\n",
    "\n",
    "For the first questions, who are the potential customers, we are only able to make vague inferences based on party size, guests, and business travel.  An Airbnb host would pay close attention to customer demographics and collect their own data as they operate, but this is not shared in the publicly available Airbnb database.  Of course, Airbnb does not want to reveal how much it knows about its customers.  More importantly, there may be liability concerns related to sharing PII.\n",
    "\n",
    "The second question, what is the purpose of the rental, is problematic as well.  This would also have to be discovered by independent market research.\n",
    "\n",
    "Data is available to address the other questions, or at least infer answers.  We can use the rationale that real estate is a commodity, and the majority of rental businesses operate profitably.  So, \"we can't go too far wrong\" by copying the competition.  This is not an optimal business model for the long term.  But for an initial investment in an unfamiliar market, it will answer the questions better than random guessing.\n",
    "\n",
    "1. ~~Who are the potential customers?  (demographics)~~\n",
    "2. ~~What is the purpose of their rental?  (vacation, business trip, temporary work)~~\n",
    "3. What duration of rental ~~are they looking for?~~ is most common?\n",
    "4. Which locations are most popular?\n",
    "5. What type of accomodation ~~are they looking for?~~ is most common?  (size, occupancy, amenities)\n",
    "6. Which locations/types of properties bring in the largest rent?\n",
    "\n",
    "Have turned our attention to the competition, we want to follow the business model of successful hosts. Not every property is suitable for rental, and we don't want to emulate the failures. We can weed some of them out by looking at 'established' rental properties, as evidenced by how long they've been getting reviews."
   ]
  },
  {
   "cell_type": "code",
   "execution_count": 17,
   "metadata": {},
   "outputs": [],
   "source": [
    "import datetime\n",
    "\n",
    "def add_age_column(df):\n",
    "    df['age_months'] = (pd.datetime.now() - pd.to_datetime(df.first_review))\n",
    "    df.age_months = df.age_months.fillna(pd.Timedelta(days=0)).astype('timedelta64[M]')\n",
    "    \n",
    "add_age_column(df_listings)"
   ]
  },
  {
   "cell_type": "code",
   "execution_count": 18,
   "metadata": {
    "scrolled": true
   },
   "outputs": [
    {
     "data": {
      "text/html": [
       "<div>\n",
       "<style scoped>\n",
       "    .dataframe tbody tr th:only-of-type {\n",
       "        vertical-align: middle;\n",
       "    }\n",
       "\n",
       "    .dataframe tbody tr th {\n",
       "        vertical-align: top;\n",
       "    }\n",
       "\n",
       "    .dataframe thead th {\n",
       "        text-align: right;\n",
       "    }\n",
       "</style>\n",
       "<table border=\"1\" class=\"dataframe\">\n",
       "  <thead>\n",
       "    <tr style=\"text-align: right;\">\n",
       "      <th></th>\n",
       "      <th>id</th>\n",
       "      <th>latitude</th>\n",
       "      <th>longitude</th>\n",
       "      <th>accommodates</th>\n",
       "      <th>bathrooms</th>\n",
       "      <th>bedrooms</th>\n",
       "      <th>beds</th>\n",
       "      <th>square_feet</th>\n",
       "      <th>guests_included</th>\n",
       "      <th>minimum_nights</th>\n",
       "      <th>maximum_nights</th>\n",
       "      <th>number_of_reviews</th>\n",
       "      <th>number_of_reviews_ltm</th>\n",
       "      <th>age_months</th>\n",
       "    </tr>\n",
       "  </thead>\n",
       "  <tbody>\n",
       "    <tr>\n",
       "      <th>count</th>\n",
       "      <td>1.418500e+04</td>\n",
       "      <td>14185.000000</td>\n",
       "      <td>14185.000000</td>\n",
       "      <td>14185.000000</td>\n",
       "      <td>14185.000000</td>\n",
       "      <td>14185.000000</td>\n",
       "      <td>14185.000000</td>\n",
       "      <td>431.000000</td>\n",
       "      <td>14185.000000</td>\n",
       "      <td>14185.000000</td>\n",
       "      <td>1.418500e+04</td>\n",
       "      <td>14185.000000</td>\n",
       "      <td>14185.000000</td>\n",
       "      <td>14185.000000</td>\n",
       "    </tr>\n",
       "    <tr>\n",
       "      <th>mean</th>\n",
       "      <td>1.798085e+07</td>\n",
       "      <td>45.361162</td>\n",
       "      <td>-100.377952</td>\n",
       "      <td>3.300106</td>\n",
       "      <td>1.248572</td>\n",
       "      <td>1.289320</td>\n",
       "      <td>1.742545</td>\n",
       "      <td>713.185615</td>\n",
       "      <td>1.766091</td>\n",
       "      <td>4.341487</td>\n",
       "      <td>7.724289e+03</td>\n",
       "      <td>39.196828</td>\n",
       "      <td>17.086218</td>\n",
       "      <td>23.768699</td>\n",
       "    </tr>\n",
       "    <tr>\n",
       "      <th>std</th>\n",
       "      <td>8.768809e+06</td>\n",
       "      <td>2.616654</td>\n",
       "      <td>25.361979</td>\n",
       "      <td>1.714159</td>\n",
       "      <td>0.513669</td>\n",
       "      <td>0.836063</td>\n",
       "      <td>1.007648</td>\n",
       "      <td>352.086667</td>\n",
       "      <td>1.303924</td>\n",
       "      <td>15.219673</td>\n",
       "      <td>8.396194e+05</td>\n",
       "      <td>62.226448</td>\n",
       "      <td>23.674755</td>\n",
       "      <td>19.943409</td>\n",
       "    </tr>\n",
       "    <tr>\n",
       "      <th>min</th>\n",
       "      <td>2.318000e+03</td>\n",
       "      <td>42.235760</td>\n",
       "      <td>-122.419637</td>\n",
       "      <td>1.000000</td>\n",
       "      <td>0.500000</td>\n",
       "      <td>0.000000</td>\n",
       "      <td>1.000000</td>\n",
       "      <td>0.000000</td>\n",
       "      <td>1.000000</td>\n",
       "      <td>1.000000</td>\n",
       "      <td>1.000000e+00</td>\n",
       "      <td>0.000000</td>\n",
       "      <td>0.000000</td>\n",
       "      <td>0.000000</td>\n",
       "    </tr>\n",
       "    <tr>\n",
       "      <th>25%</th>\n",
       "      <td>1.149720e+07</td>\n",
       "      <td>42.348738</td>\n",
       "      <td>-122.339113</td>\n",
       "      <td>2.000000</td>\n",
       "      <td>1.000000</td>\n",
       "      <td>1.000000</td>\n",
       "      <td>1.000000</td>\n",
       "      <td>580.000000</td>\n",
       "      <td>1.000000</td>\n",
       "      <td>1.000000</td>\n",
       "      <td>3.000000e+01</td>\n",
       "      <td>2.000000</td>\n",
       "      <td>0.000000</td>\n",
       "      <td>9.000000</td>\n",
       "    </tr>\n",
       "    <tr>\n",
       "      <th>50%</th>\n",
       "      <td>1.953396e+07</td>\n",
       "      <td>47.568856</td>\n",
       "      <td>-122.298005</td>\n",
       "      <td>3.000000</td>\n",
       "      <td>1.000000</td>\n",
       "      <td>1.000000</td>\n",
       "      <td>1.000000</td>\n",
       "      <td>600.000000</td>\n",
       "      <td>1.000000</td>\n",
       "      <td>2.000000</td>\n",
       "      <td>1.125000e+03</td>\n",
       "      <td>13.000000</td>\n",
       "      <td>6.000000</td>\n",
       "      <td>20.000000</td>\n",
       "    </tr>\n",
       "    <tr>\n",
       "      <th>75%</th>\n",
       "      <td>2.478323e+07</td>\n",
       "      <td>47.627490</td>\n",
       "      <td>-71.082711</td>\n",
       "      <td>4.000000</td>\n",
       "      <td>1.000000</td>\n",
       "      <td>2.000000</td>\n",
       "      <td>2.000000</td>\n",
       "      <td>1000.000000</td>\n",
       "      <td>2.000000</td>\n",
       "      <td>3.000000</td>\n",
       "      <td>1.125000e+03</td>\n",
       "      <td>50.000000</td>\n",
       "      <td>26.000000</td>\n",
       "      <td>36.000000</td>\n",
       "    </tr>\n",
       "    <tr>\n",
       "      <th>max</th>\n",
       "      <td>3.224218e+07</td>\n",
       "      <td>47.733955</td>\n",
       "      <td>-70.995948</td>\n",
       "      <td>8.000000</td>\n",
       "      <td>4.000000</td>\n",
       "      <td>5.000000</td>\n",
       "      <td>6.000000</td>\n",
       "      <td>3000.000000</td>\n",
       "      <td>16.000000</td>\n",
       "      <td>600.000000</td>\n",
       "      <td>1.000000e+08</td>\n",
       "      <td>698.000000</td>\n",
       "      <td>203.000000</td>\n",
       "      <td>129.000000</td>\n",
       "    </tr>\n",
       "  </tbody>\n",
       "</table>\n",
       "</div>"
      ],
      "text/plain": [
       "                 id      latitude     longitude  accommodates     bathrooms  \\\n",
       "count  1.418500e+04  14185.000000  14185.000000  14185.000000  14185.000000   \n",
       "mean   1.798085e+07     45.361162   -100.377952      3.300106      1.248572   \n",
       "std    8.768809e+06      2.616654     25.361979      1.714159      0.513669   \n",
       "min    2.318000e+03     42.235760   -122.419637      1.000000      0.500000   \n",
       "25%    1.149720e+07     42.348738   -122.339113      2.000000      1.000000   \n",
       "50%    1.953396e+07     47.568856   -122.298005      3.000000      1.000000   \n",
       "75%    2.478323e+07     47.627490    -71.082711      4.000000      1.000000   \n",
       "max    3.224218e+07     47.733955    -70.995948      8.000000      4.000000   \n",
       "\n",
       "           bedrooms          beds  square_feet  guests_included  \\\n",
       "count  14185.000000  14185.000000   431.000000     14185.000000   \n",
       "mean       1.289320      1.742545   713.185615         1.766091   \n",
       "std        0.836063      1.007648   352.086667         1.303924   \n",
       "min        0.000000      1.000000     0.000000         1.000000   \n",
       "25%        1.000000      1.000000   580.000000         1.000000   \n",
       "50%        1.000000      1.000000   600.000000         1.000000   \n",
       "75%        2.000000      2.000000  1000.000000         2.000000   \n",
       "max        5.000000      6.000000  3000.000000        16.000000   \n",
       "\n",
       "       minimum_nights  maximum_nights  number_of_reviews  \\\n",
       "count    14185.000000    1.418500e+04       14185.000000   \n",
       "mean         4.341487    7.724289e+03          39.196828   \n",
       "std         15.219673    8.396194e+05          62.226448   \n",
       "min          1.000000    1.000000e+00           0.000000   \n",
       "25%          1.000000    3.000000e+01           2.000000   \n",
       "50%          2.000000    1.125000e+03          13.000000   \n",
       "75%          3.000000    1.125000e+03          50.000000   \n",
       "max        600.000000    1.000000e+08         698.000000   \n",
       "\n",
       "       number_of_reviews_ltm    age_months  \n",
       "count           14185.000000  14185.000000  \n",
       "mean               17.086218     23.768699  \n",
       "std                23.674755     19.943409  \n",
       "min                 0.000000      0.000000  \n",
       "25%                 0.000000      9.000000  \n",
       "50%                 6.000000     20.000000  \n",
       "75%                26.000000     36.000000  \n",
       "max               203.000000    129.000000  "
      ]
     },
     "execution_count": 18,
     "metadata": {},
     "output_type": "execute_result"
    }
   ],
   "source": [
    "df_listings.describe()"
   ]
  },
  {
   "cell_type": "code",
   "execution_count": 19,
   "metadata": {},
   "outputs": [
    {
     "data": {
      "image/png": "[encoded data removed]",
      "text/plain": [
       "<Figure size 1152x360 with 1 Axes>"
      ]
     },
     "metadata": {
      "needs_background": "light"
     },
     "output_type": "display_data"
    }
   ],
   "source": [
    "import matplotlib.pyplot as plt\n",
    "import numpy as np\n",
    "\n",
    "plt.rcParams[\"figure.figsize\"] = (16, 5)\n",
    "txt = 'Age of first_review, used to estimate age of rental'\n",
    "plt.figtext(.5, .01, txt, ha='center', fontsize=15)\n",
    "bin_edges = np.arange(1, 120+1, 1)\n",
    "plt.hist(data=df_listings, x='age_months', bins=bin_edges);"
   ]
  },
  {
   "cell_type": "markdown",
   "metadata": {},
   "source": [
    "A histogram of the age of first_reviews does not provide a whole lot of insight, other than the business is seasonal. Using intuition and a little domain knowledge, we can say somewhat arbitrarily that if the first_review is less than 12 months old, the property is still in its 'trial period'.  This choice will also allow us to safely use the number_of_reviews_ltm field.  (LTM stands for 'last twelve months'.)"
   ]
  },
  {
   "cell_type": "code",
   "execution_count": 20,
   "metadata": {},
   "outputs": [
    {
     "name": "stdout",
     "output_type": "stream",
     "text": [
      "Raw  : (10036, 27)\n",
      "Clean: (9665, 27)\n"
     ]
    }
   ],
   "source": [
    "add_age_column(df_b_listings)\n",
    "add_age_column(df_s_listings)\n",
    "\n",
    "min_age = 12\n",
    "df_b_listings = df_b_listings[df_b_listings.age_months >= min_age]\n",
    "df_s_listings = df_s_listings[df_s_listings.age_months >= min_age]\n",
    "df_listings = df_b_listings.append(df_s_listings)\n",
    "df_listings = prune_listings(df_listings)"
   ]
  },
  {
   "cell_type": "markdown",
   "metadata": {},
   "source": [
    "### What duration of rental is most common?"
   ]
  },
  {
   "cell_type": "markdown",
   "metadata": {},
   "source": [
    "Even in its simplified form, this question can't be answered directly.  But we know the values are bounded by minimum and maximum nights, so this value is bounded.  Of course, in most cases there is no upper bound, so really we can only look at the minimum."
   ]
  },
  {
   "cell_type": "code",
   "execution_count": 21,
   "metadata": {},
   "outputs": [
    {
     "data": {
      "image/png": "[encoded data removed]",
      "text/plain": [
       "<Figure size 1152x360 with 1 Axes>"
      ]
     },
     "metadata": {
      "needs_background": "light"
     },
     "output_type": "display_data"
    }
   ],
   "source": [
    "plt.rcParams[\"figure.figsize\"] = (16, 5)\n",
    "txt = 'Minimum Nights Stayed'\n",
    "plt.figtext(.5, .01, txt, ha='center', fontsize=15)\n",
    "bin_edges = np.arange(1, 35+1, 1)\n",
    "plt.hist(data=df_listings, x='minimum_nights', bins=bin_edges);"
   ]
  },
  {
   "cell_type": "markdown",
   "metadata": {},
   "source": [
    "The curve is (almost) bimodal.  The vast majority of rooms have a minimum of 1 week or less, (hence the 'BnB' in 'AirBnB',) with a small lump at 30 days.\n",
    "\n",
    "The most common minimum is 2 nights.  This might seem a little surprising at first, but in a well-established industry such as this, there are generally reasons for things."
   ]
  },
  {
   "cell_type": "markdown",
   "metadata": {},
   "source": [
    "### Which locations are most popular?"
   ]
  },
  {
   "cell_type": "code",
   "execution_count": 22,
   "metadata": {},
   "outputs": [
    {
     "name": "stdout",
     "output_type": "stream",
     "text": [
      "Raw  : (10036, 28)\n",
      "Clean: (9665, 28)\n"
     ]
    }
   ],
   "source": [
    "boston_downtown = (42.354065, -71.054787)\n",
    "seattle_downtown = (47.607792, -122.334625)  # Wow, Seattle is 5° further north!\n",
    "\n",
    "# calculate distance in nautical miles\n",
    "def as_the_crow_flies(lat1, long1, lat2, long2):\n",
    "    a = lat2 - lat1\n",
    "    b = long2 - long1\n",
    "    deg = (a**2 + b**2)**.5\n",
    "    dist = 60 * deg\n",
    "    return dist\n",
    "\n",
    "# convert distance\n",
    "df_b_listings['dist_downtown'] = as_the_crow_flies(boston_downtown[0], boston_downtown[1],\n",
    "                                                   df_b_listings.latitude, df_b_listings.longitude) \n",
    "df_s_listings['dist_downtown'] = as_the_crow_flies(seattle_downtown[0], seattle_downtown[1],\n",
    "                                                   df_s_listings.latitude, df_s_listings.longitude)\n",
    "df_listings = df_b_listings.append(df_s_listings)\n",
    "df_listings = prune_listings(df_listings)"
   ]
  },
  {
   "cell_type": "code",
   "execution_count": 23,
   "metadata": {},
   "outputs": [
    {
     "data": {
      "image/png": "[encoded data removed]",
      "text/plain": [
       "<Figure size 1152x288 with 3 Axes>"
      ]
     },
     "metadata": {
      "needs_background": "light"
     },
     "output_type": "display_data"
    }
   ],
   "source": [
    "plt.rcParams[\"figure.figsize\"] = (16, 4)\n",
    "txt = 'Distance from city center'\n",
    "plt.figtext(.5, .01, txt, ha='center', fontsize=15)\n",
    "bin_edges = np.arange(1, 10+1, 1)\n",
    "ax = plt.subplot(1, 3, 1)\n",
    "ax.hist(data=df_b_listings, x='dist_downtown', bins=bin_edges)\n",
    "ax.set_title(f'Boston (mean dist {df_b_listings.dist_downtown.mean():.1f} mi)')\n",
    "ax = plt.subplot(1, 3, 2)\n",
    "ax.hist(data=df_s_listings, x='dist_downtown', bins=bin_edges)\n",
    "ax.set_title(f'Seattle (mean dist {df_s_listings.dist_downtown.mean():.1f} mi)')\n",
    "ax = plt.subplot(1, 3, 3)\n",
    "ax.hist(data=df_listings, x='dist_downtown', bins=bin_edges)\n",
    "ax.set_title(f'Combined (mean dist {df_listings.dist_downtown.mean():.1f} mi)');"
   ]
  },
  {
   "cell_type": "markdown",
   "metadata": {},
   "source": [
    "There are many landmarks we could choose, but proximity to 'downtown' (as defined by Bing maps) is probably good enough.  A more detailed investigation might include proximity to other attractions, such as universities or tourist attractions.\n",
    "\n",
    "Most established Airbnb rentals are within 5 miles of the city center.  Boston is more compact, so it's not surprising that the rental units are clustered more tightly."
   ]
  },
  {
   "cell_type": "code",
   "execution_count": 24,
   "metadata": {
    "scrolled": true
   },
   "outputs": [
    {
     "data": {
      "image/png": "[encoded data removed]",
      "text/plain": [
       "<Figure size 1152x360 with 3 Axes>"
      ]
     },
     "metadata": {
      "needs_background": "light"
     },
     "output_type": "display_data"
    }
   ],
   "source": [
    "plt.rcParams[\"figure.figsize\"] = (16, 5)\n",
    "txt = 'Reviews (12 mo) vs. Distance from city center'\n",
    "plt.figtext(.5, .01, txt, ha='center', fontsize=15)\n",
    "bin_edges = np.arange(1, 10+1, 1)\n",
    "ax = plt.subplot(1, 3, 1)\n",
    "ax.scatter(data=df_b_listings, x='dist_downtown', y='number_of_reviews_ltm', s=1)\n",
    "ax.set_title(f'Boston')\n",
    "ax = plt.subplot(1, 3, 2)\n",
    "ax.scatter(data=df_s_listings, x='dist_downtown', y='number_of_reviews_ltm', s=1)\n",
    "ax.set_title(f'Seattle')\n",
    "ax = plt.subplot(1, 3, 3)\n",
    "ax.scatter(data=df_listings, x='dist_downtown', y='number_of_reviews_ltm', s=1)\n",
    "ax.set_title(f'Combined');"
   ]
  },
  {
   "cell_type": "markdown",
   "metadata": {},
   "source": [
    "Most rentals are near the city center, so naturally we expect to see more reviews towards downtown.  But, it seems that the units farther away generate plenty of reviews as well, including many of the highest performing properties."
   ]
  },
  {
   "cell_type": "markdown",
   "metadata": {},
   "source": [
    "### What type of accomodation is most common?"
   ]
  },
  {
   "cell_type": "code",
   "execution_count": 25,
   "metadata": {},
   "outputs": [
    {
     "data": {
      "image/png": "[encoded data removed]",
      "text/plain": [
       "<Figure size 1152x216 with 5 Axes>"
      ]
     },
     "metadata": {
      "needs_background": "light"
     },
     "output_type": "display_data"
    }
   ],
   "source": [
    "plt.rcParams[\"figure.figsize\"] = (16, 3)\n",
    "txt = 'Size, accomodation and standard amenities'\n",
    "plt.figtext(.5, .0, txt, ha='center', fontsize=15)\n",
    "bin_edges = np.arange(1, 2000+1, 200)\n",
    "ax = plt.subplot(1, 5, 1)\n",
    "ax.hist(data=df_listings, x='square_feet', bins=bin_edges)\n",
    "ax.set_yticks([], [])\n",
    "ax.set_title(f'Square Feet (mean {df_listings.square_feet.mean():.0f})')\n",
    "bin_edges = np.arange(1, 10+1, 1)\n",
    "ax = plt.subplot(1, 5, 2)\n",
    "ax.hist(data=df_listings, x='accommodates', bins=bin_edges)\n",
    "ax.set_yticks([], [])\n",
    "ax.set_title(f'Accomodates (mean {df_listings.accommodates.mean():.1f})')\n",
    "bin_edges = np.arange(1, 8+1, 1)\n",
    "ax = plt.subplot(1, 5, 3)\n",
    "ax.hist(data=df_listings, x='bedrooms', bins=bin_edges)\n",
    "ax.set_yticks([], [])\n",
    "ax.set_title(f'Bedrooms (mean {df_listings.bedrooms.mean():.1f})')\n",
    "bin_edges = np.arange(1, 10+1, 1)\n",
    "ax = plt.subplot(1, 5, 4)\n",
    "ax.hist(data=df_listings, x='beds', bins=bin_edges)\n",
    "ax.set_yticks([], [])\n",
    "ax.set_title(f'Beds (mean {df_listings.beds.mean():.1f})');\n",
    "bin_edges = np.arange(1, 5+1, 1)\n",
    "ax = plt.subplot(1, 5, 5)\n",
    "ax.hist(data=df_listings, x='bathrooms', bins=bin_edges)\n",
    "ax.set_yticks([], [])\n",
    "ax.set_title(f'Bathrooms (mean {df_listings.bathrooms.mean():.1f})');"
   ]
  },
  {
   "cell_type": "markdown",
   "metadata": {},
   "source": [
    "The mean rental size is 742 sq ft, with the most common size being around 500 sq ft.\n",
    "\n",
    "The most common rental accomodates 3 people.  Yet, the most common rental also has a single bedroom with a single bed.\n",
    "\n",
    "The most common rental has a single bathroom, which would be logical for a 500 sq ft, 1-bedroom apartment.\n"
   ]
  },
  {
   "cell_type": "markdown",
   "metadata": {},
   "source": [
    "### Which locations/types of properties bring in the largest rent?"
   ]
  },
  {
   "cell_type": "code",
   "execution_count": 26,
   "metadata": {},
   "outputs": [
    {
     "name": "stdout",
     "output_type": "stream",
     "text": [
      "Raw  : (10036, 28)\n",
      "Clean: (9665, 28)\n"
     ]
    }
   ],
   "source": [
    "df_b_listings.price = df_b_listings.price.str.replace('$', '').str.replace(',', '').astype(float)\n",
    "df_b_listings.weekly_price = df_b_listings.weekly_price.str.replace('$', '').str.replace(',', '').astype(float)\n",
    "df_b_listings.monthly_price = df_b_listings.monthly_price.str.replace('$', '').str.replace(',', '').astype(float)\n",
    "df_s_listings.price = df_s_listings.price.str.replace('$', '').str.replace(',', '').astype(float)\n",
    "df_s_listings.weekly_price = df_s_listings.weekly_price.str.replace('$', '').str.replace(',', '').astype(float)\n",
    "df_s_listings.monthly_price = df_s_listings.monthly_price.str.replace('$', '').str.replace(',', '').astype(float)\n",
    "df_listings = df_b_listings.append(df_s_listings)\n",
    "df_listings = prune_listings(df_listings)\n",
    "# prune the high-end outliers as well\n",
    "df_listings = df_listings[df_listings.price <= 800]"
   ]
  },
  {
   "cell_type": "code",
   "execution_count": 27,
   "metadata": {},
   "outputs": [
    {
     "data": {
      "image/png": "[encoded data removed]",
      "text/plain": [
       "<Figure size 1152x288 with 3 Axes>"
      ]
     },
     "metadata": {
      "needs_background": "light"
     },
     "output_type": "display_data"
    }
   ],
   "source": [
    "plt.rcParams[\"figure.figsize\"] = (16, 4)\n",
    "plt.figtext(.5, .001, 'Price', ha='center', fontsize=15)\n",
    "bin_edges = np.arange(1, 600+1, 50)\n",
    "ax = plt.subplot(1, 3, 1)\n",
    "s = ax.hist(data=df_s_listings, x='price', bins=bin_edges, density=True, fc=(0,.5,1,.5))\n",
    "b = ax.hist(data=df_b_listings, x='price', bins=bin_edges, density=True, fc=(1,.5,0,.5))\n",
    "ax.set_title(f'Price (median=\\${df_listings.price.median():.0f}, mean=\\${df_listings.price.mean():.0f})')\n",
    "ax.set_yticks([], [])\n",
    "handles, labels = ax.get_legend_handles_labels()\n",
    "ax.legend(handles=handles, \n",
    "          labels=[f'Seattle x̃=\\${df_s_listings.price.median():.0f} μ=\\${df_s_listings.price.mean():.0f}',\n",
    "                  f'Boston x̃=\\${df_b_listings.price.median():.0f} μ=\\${df_b_listings.price.mean():.0f}']);\n",
    "\n",
    "bin_edges = np.arange(1, 3000+1, 250)\n",
    "ax = plt.subplot(1, 3, 2)\n",
    "s = ax.hist(data=df_s_listings, x='weekly_price', bins=bin_edges, density=True, fc=(0,.5,1,.5))\n",
    "b = ax.hist(data=df_b_listings, x='weekly_price', bins=bin_edges, density=True, fc=(1,.5,0,.5))\n",
    "ax.set_title(f'Weekly (median=\\${df_listings.weekly_price.median():.0f}, mean=\\${df_listings.weekly_price.mean():.0f})')\n",
    "ax.set_yticks([], [])\n",
    "handles, labels = ax.get_legend_handles_labels()\n",
    "ax.legend(handles=handles, \n",
    "          labels=[f'Seattle x̃=\\${df_s_listings.weekly_price.median():.0f}, μ=\\${df_s_listings.weekly_price.mean():.0f}',\n",
    "                  f'Boston x̃=\\${df_b_listings.weekly_price.median():.0f}, μ=\\${df_b_listings.weekly_price.mean():.0f}']);\n",
    "\n",
    "bin_edges = np.arange(1, 10000+1, 500)\n",
    "ax = plt.subplot(1, 3, 3)\n",
    "s = ax.hist(data=df_s_listings, x='monthly_price', bins=bin_edges, density=True, fc=(0,.5,1,.5))\n",
    "b = ax.hist(data=df_b_listings, x='monthly_price', bins=bin_edges, density=True, fc=(1,.5,0,.5))\n",
    "ax.set_title(f'Monthly (median=\\${df_listings.monthly_price.median():.0f}, mean=\\${df_listings.monthly_price.mean():.0f})')\n",
    "ax.set_yticks([], [])\n",
    "handles, labels = ax.get_legend_handles_labels()\n",
    "ax.legend(handles=handles, \n",
    "          labels=[f'Seattle x̃=\\${df_s_listings.monthly_price.median():.0f} μ=\\${df_s_listings.monthly_price.mean():.0f}',\n",
    "                  f'Boston x̃=\\${df_b_listings.monthly_price.median():.0f} μ=\\${df_b_listings.monthly_price.mean():.0f}']);"
   ]
  },
  {
   "cell_type": "markdown",
   "metadata": {},
   "source": [
    "Prices in Boston and Seattle are not an apples-to-apples comparison, so these are graphed separately.  Boston is more expensive than Seattle, which is to be expected.  Real estate prices in general have a positive skew, and these plots are no exception.  The median price is more commonly used for this reason.\n",
    "\n",
    "Boston skews further to the right than Seattle, and this difference becomes more pronounced as the duration of the stay increases.  The monthly rate for Boston has a strong positive skew.  This bears further investigation.  For example, there could be local taxes or ordinances driving this."
   ]
  },
  {
   "cell_type": "code",
   "execution_count": 28,
   "metadata": {},
   "outputs": [],
   "source": [
    "# The square_feet data seems to be especially dirty, so do a little extra cleaning for that plot\n",
    "df_square_feet = df_listings[df_listings.square_feet > 25]\n",
    "df_square_feet = df_square_feet[df_square_feet.price / df_square_feet.square_feet > 0.10]"
   ]
  },
  {
   "cell_type": "code",
   "execution_count": 29,
   "metadata": {
    "scrolled": true
   },
   "outputs": [
    {
     "data": {
      "image/png": "[encoded data removed]",
      "text/plain": [
       "<Figure size 1152x216 with 5 Axes>"
      ]
     },
     "metadata": {
      "needs_background": "light"
     },
     "output_type": "display_data"
    }
   ],
   "source": [
    "import seaborn as sb\n",
    "plt.rcParams[\"figure.figsize\"] = (16, 3)\n",
    "txt = 'Price vs. Size and Amenities'\n",
    "plt.figtext(.5, .0, txt, ha='center', fontsize=15)\n",
    "base_color = sb.color_palette()[0]\n",
    "ax = plt.subplot(1, 5, 1)\n",
    "ax.scatter(data=df_square_feet, x='square_feet', y='price')\n",
    "y = np.arange(0, 800, 100)\n",
    "ax.set_yticks(y)\n",
    "ax.set_yticklabels(y)\n",
    "ax.set_title(f'Square Feet')\n",
    "ax = plt.subplot(1, 5, 2)\n",
    "sb.boxplot(data=df_listings, x='accommodates', y='price', showfliers=False, ax=ax, color=base_color)\n",
    "y = np.arange(0, 800, 100)\n",
    "ax.set_yticks(y)\n",
    "ax.set_yticklabels(y)\n",
    "ax.set_xlabel('')\n",
    "ax.set_ylabel('')\n",
    "ax.set_title(f'Accomodates')\n",
    "ax = plt.subplot(1, 5, 3)\n",
    "sb.boxplot(data=df_listings, x='bedrooms', y='price', showfliers=False, ax=ax, color=base_color)\n",
    "y = np.arange(0, 800, 100)\n",
    "ax.set_yticks(y)\n",
    "ax.set_yticklabels(y)\n",
    "ax.set_xlabel('')\n",
    "ax.set_ylabel('')\n",
    "ax.set_title(f'Bedrooms')\n",
    "ax = plt.subplot(1, 5, 4)\n",
    "sb.boxplot(data=df_listings, x='beds', y='price', showfliers=False, ax=ax, color=base_color)\n",
    "y = np.arange(0, 800, 100)\n",
    "ax.set_yticks(y)\n",
    "ax.set_yticklabels(y)\n",
    "ax.set_xlabel('')\n",
    "ax.set_ylabel('')\n",
    "ax.set_title(f'Beds')\n",
    "ax = plt.subplot(1, 5, 5)\n",
    "sb.boxplot(data=df_listings, x='bathrooms', y='price', showfliers=False, ax=ax, color=base_color)\n",
    "y = np.arange(0, 800, 100)\n",
    "ax.set_yticks(y)\n",
    "ax.set_yticklabels(y)\n",
    "ax.set_xlabel('')\n",
    "ax.set_ylabel('')\n",
    "ax.set_title(f'Bathrooms');"
   ]
  },
  {
   "cell_type": "markdown",
   "metadata": {},
   "source": [
    "The price has a generally a positive correlation between square footage, number people acommodated, and bedrooms.  It stands to reason that a larger property will cost more.  However, beds and bathrooms reach a peak value and then actually drop."
   ]
  },
  {
   "cell_type": "code",
   "execution_count": 30,
   "metadata": {},
   "outputs": [
    {
     "data": {
      "image/png": "[encoded data removed]",
      "text/plain": [
       "<Figure size 1152x216 with 5 Axes>"
      ]
     },
     "metadata": {
      "needs_background": "light"
     },
     "output_type": "display_data"
    }
   ],
   "source": [
    "plt.rcParams[\"figure.figsize\"] = (16, 3)\n",
    "txt = 'Number of Reviews (12 mo) vs. Size and Amenities'\n",
    "plt.figtext(.5, .0, txt, ha='center', fontsize=15)\n",
    "base_color = sb.color_palette()[0]\n",
    "ax = plt.subplot(1, 5, 1)\n",
    "ax.scatter(data=df_square_feet, x='square_feet', y='number_of_reviews_ltm')\n",
    "y = np.arange(0, 100, 10)\n",
    "ax.set_yticks(y)\n",
    "ax.set_yticklabels(y)\n",
    "ax.set_title(f'Square Feet')\n",
    "ax = plt.subplot(1, 5, 2)\n",
    "sb.boxplot(data=df_listings, x='accommodates', y='number_of_reviews_ltm', showfliers=False, ax=ax, color=base_color)\n",
    "y = np.arange(0, 100, 10)\n",
    "ax.set_yticks(y)\n",
    "ax.set_yticklabels(y)\n",
    "ax.set_xlabel('')\n",
    "ax.set_ylabel('')\n",
    "ax.set_title(f'Accomodates')\n",
    "ax = plt.subplot(1, 5, 3)\n",
    "sb.boxplot(data=df_listings, x='bedrooms', y='number_of_reviews_ltm', showfliers=False, ax=ax, color=base_color)\n",
    "y = np.arange(0, 100, 10)\n",
    "ax.set_yticks(y)\n",
    "ax.set_yticklabels(y)\n",
    "ax.set_xlabel('')\n",
    "ax.set_ylabel('')\n",
    "ax.set_title(f'Bedrooms')\n",
    "ax = plt.subplot(1, 5, 4)\n",
    "sb.boxplot(data=df_listings, x='beds', y='number_of_reviews_ltm', showfliers=False, ax=ax, color=base_color)\n",
    "y = np.arange(0, 100, 10)\n",
    "ax.set_yticks(y)\n",
    "ax.set_yticklabels(y)\n",
    "ax.set_xlabel('')\n",
    "ax.set_ylabel('')\n",
    "ax.set_title(f'Beds')\n",
    "ax = plt.subplot(1, 5, 5)\n",
    "sb.boxplot(data=df_listings, x='bathrooms', y='number_of_reviews_ltm', showfliers=False, ax=ax, color=base_color)\n",
    "y = np.arange(0, 100, 10)\n",
    "ax.set_yticks(y)\n",
    "ax.set_yticklabels(y)\n",
    "ax.set_xlabel('')\n",
    "ax.set_ylabel('')\n",
    "ax.set_title(f'Bathrooms');"
   ]
  },
  {
   "cell_type": "markdown",
   "metadata": {},
   "source": [
    "A larger property will only bring in more money if you're able to rent it out.  We don't have rental histories, but we can roughly approximate it using the number of reviews in the last year.  Although a little abstract, this set of graphs shows what customers are actually renting.\n",
    "\n",
    "Generally speaking, smaller properties with fewer bedrooms and bathrooms are more popular.  A studio apartments with a single full bathroom is the most popular.\n",
    "\n",
    "Surprisingly, the number of occupants and number of beds are pretty flat graphs, with the most popular having 3 beds."
   ]
  },
  {
   "cell_type": "code",
   "execution_count": 31,
   "metadata": {},
   "outputs": [
    {
     "data": {
      "image/png": "[encoded data removed]",
      "text/plain": [
       "<Figure size 1152x360 with 1 Axes>"
      ]
     },
     "metadata": {
      "needs_background": "light"
     },
     "output_type": "display_data"
    }
   ],
   "source": [
    "plt.rcParams[\"figure.figsize\"] = (16, 5)\n",
    "txt = 'Number of Reviews In the Last Year'\n",
    "plt.figtext(.5, .01, txt, ha='center', fontsize=15)\n",
    "bin_edges = np.arange(1, df_listings.number_of_reviews_ltm.max()+1, 1)\n",
    "plt.hist(data=df_listings, x='number_of_reviews_ltm', bins=bin_edges);"
   ]
  },
  {
   "cell_type": "markdown",
   "metadata": {},
   "source": [
    "Another significant finding is that the number of reviews in the last year is roughly a power distribution.  Most properties receive few reviews, but a few properties receive many.  This was not one of the original questions, I just happened to notice it when going over the data."
   ]
  },
  {
   "cell_type": "markdown",
   "metadata": {},
   "source": [
    "# CRISP-DM step 6"
   ]
  },
  {
   "cell_type": "code",
   "execution_count": null,
   "metadata": {},
   "outputs": [],
   "source": []
  }
 ],
 "metadata": {
  "kernelspec": {
   "display_name": "Python 3",
   "language": "python",
   "name": "python3"
  },
  "language_info": {
   "codemirror_mode": {
    "name": "ipython",
    "version": 3
   },
   "file_extension": ".py",
   "mimetype": "text/x-python",
   "name": "python",
   "nbconvert_exporter": "python",
   "pygments_lexer": "ipython3",
   "version": "3.7.3"
  }
 },
 "nbformat": 4,
 "nbformat_minor": 2
}
